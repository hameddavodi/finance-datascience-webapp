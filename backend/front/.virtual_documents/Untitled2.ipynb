import json
from datetime import datetime

# Sample data
data = {
    "id": "12345",
    "name": "John Doe"
}

# Create a timestamp
timestamp = datetime.now().isoformat()

# Create a dictionary in the desired format
message = {
    "value": json.dumps(data),
    "timestamp": timestamp
}

# Convert the dictionary to a JSON string
json_message = json.dumps(message)

print(json_message)

